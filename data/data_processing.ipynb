{
 "cells": [
  {
   "cell_type": "code",
   "execution_count": 1,
   "metadata": {},
   "outputs": [],
   "source": [
    "import numpy as np\n",
    "import pandas as pd\n",
    "import matplotlib.pyplot as plt\n",
    "import ast\n",
    "from datetime import datetime\n",
    "\n",
    "from pathlib import Path\n",
    "dataPath = Path(\"../data\")\n",
    "imagePath = Path(\"image\")"
   ]
  },
  {
   "cell_type": "markdown",
   "metadata": {},
   "source": [
    "## Data Processing for diagrams"
   ]
  },
  {
   "cell_type": "markdown",
   "metadata": {},
   "source": [
    "# Retrieve the clean game data"
   ]
  },
  {
   "cell_type": "code",
   "execution_count": 2,
   "metadata": {},
   "outputs": [],
   "source": [
    "games_clean = pd.read_csv(dataPath / \"games_data_clean.csv\")"
   ]
  },
  {
   "cell_type": "code",
   "execution_count": 3,
   "metadata": {},
   "outputs": [],
   "source": [
    "# Convert the string representation to an array of strings\n",
    "games_clean = games_clean.copy()\n",
    "games_clean.loc[:,'Genres'] = games_clean['Genres'].apply(lambda x : ast.literal_eval(x))\n",
    "games_clean.loc[:,'Platforms'] = games_clean['Platforms'].apply(lambda x : ast.literal_eval(x))\n",
    "games_clean.loc[:,'Developers'] = games_clean['Developers'].apply(lambda x : ast.literal_eval(x))\n",
    "\n",
    "# convert numerical value as int\n",
    "games_clean.loc[:,'Plays'] = games_clean['Plays'].apply(lambda x : int(x))\n",
    "games_clean.loc[:,'Playing'] = games_clean['Playing'].apply(lambda x : int(x))\n",
    "games_clean.loc[:,'Backlogs'] = games_clean['Backlogs'].apply(lambda x : int(x))\n",
    "games_clean.loc[:,'Wishlist'] = games_clean['Wishlist'].apply(lambda x : int(x))\n",
    "games_clean.loc[:,'Reviews'] = games_clean['Reviews'].apply(lambda x : int(x))\n",
    "\n",
    "# convert rating as float\n",
    "games_clean.loc[:,'Rating'] = games_clean['Rating'].apply(lambda x : float(x))\n",
    "\n",
    "# covert the relaease dtae in dta format\n",
    "def convert_to_date(date_str):\n",
    "    if date_str == 'TBD':\n",
    "        return None  # Return None for \"TBD\" dates\n",
    "    else:\n",
    "        return datetime.strptime(date_str, '%Y-%m-%d').date()\n",
    "    \n",
    "games_clean.loc[:,'Release_Date'] = games_clean['Release_Date'].apply(lambda x : convert_to_date(x))"
   ]
  },
  {
   "cell_type": "markdown",
   "metadata": {},
   "source": [
    "# Data processing genres"
   ]
  },
  {
   "cell_type": "code",
   "execution_count": 29,
   "metadata": {},
   "outputs": [
    {
     "name": "stderr",
     "output_type": "stream",
     "text": [
      "/var/folders/tq/cmycts3j1671ypmqmfdk63m00000gn/T/ipykernel_70715/3615027030.py:26: DeprecationWarning: DataFrameGroupBy.apply operated on the grouping columns. This behavior is deprecated, and in a future version of pandas the grouping columns will be excluded from the operation. Either pass `include_groups=False` to exclude the groupings or explicitly select the grouping columns after groupby to silence this warning.\n",
      "  genresYear_groupBy = genresYear_groupBy.apply(aggregate_Game_Elem)\n"
     ]
    }
   ],
   "source": [
    "import math\n",
    "def aggregate_Game_Elem(group):\t\t\t\t\t\t\t\t\t\n",
    "    return [{'Title' : elem['Title'],\n",
    "             'Release_Date' : elem['Release_Date'].strftime(\"%Y-%m-%d\"),\n",
    "\t\t\t 'Developers' : elem['Developers'],\n",
    "\t\t\t 'Summary' : \"\" if pd.isna(elem['Summary']) else elem['Summary'],\n",
    "\t\t\t 'Platforms' : elem['Platforms'],\n",
    "\t\t\t 'Genres' : elem['Genres'],\n",
    "\t\t\t 'Rating' : -1.0 if math.isnan(elem['Rating']) else elem['Rating'],\n",
    "\t\t\t 'Plays' : elem['Plays'],\n",
    "\t\t\t 'Playing' : elem['Playing'],\n",
    "\t\t\t 'Backlogs' : elem['Backlogs'],\n",
    "\t\t\t 'Wishlist' : elem['Wishlist'],\n",
    "\t\t\t 'Reviews' : elem['Reviews']\n",
    "\t\t\t } for _, elem in group.iterrows()]\n",
    "\n",
    "# extract the year\n",
    "games_withYear = games_clean\n",
    "games_withYear['Realease_Year'] = pd.to_datetime(games_clean['Release_Date']).dt.year\n",
    "#remove all the year geater than 2023\n",
    "games_withYear = games_withYear[games_withYear['Realease_Year'] <= 2023]\n",
    "# explode list of genres\n",
    "genres_exploded = games_withYear.explode('Genres')\n",
    "# group by year and genres\n",
    "genresYear_groupBy = genres_exploded.groupby(['Realease_Year', 'Genres'])\n",
    "genresYear_groupBy = genresYear_groupBy.apply(aggregate_Game_Elem)"
   ]
  },
  {
   "cell_type": "code",
   "execution_count": 30,
   "metadata": {},
   "outputs": [],
   "source": [
    "from collections import defaultdict\n",
    "\n",
    "genresDict = defaultdict(lambda: defaultdict(list))\n",
    "\n",
    "for (year, genre), listElem in genresYear_groupBy.items():\n",
    "    genresDict[year][genre] = listElem"
   ]
  },
  {
   "cell_type": "code",
   "execution_count": 31,
   "metadata": {},
   "outputs": [],
   "source": [
    "import json\n",
    "with open(\"games_by_year_and_genre.json\", 'w') as f:\n",
    "    json.dump(genresDict, f, indent=4)\n"
   ]
  },
  {
   "cell_type": "markdown",
   "metadata": {},
   "source": [
    "# Data Processing Platforms"
   ]
  },
  {
   "cell_type": "code",
   "execution_count": 4,
   "metadata": {},
   "outputs": [],
   "source": [
    "import json\n",
    "with open(\"platforms_and_types.json\", 'r') as f:\n",
    "    platformsTypeDict = json.load(f)\n",
    "            \n"
   ]
  },
  {
   "cell_type": "code",
   "execution_count": 9,
   "metadata": {},
   "outputs": [],
   "source": [
    "#Map the platforms to the type\n",
    "def map_platform_to_genre(name):\n",
    "    platforms = platformsTypeDict['consoles']\n",
    "    types = platformsTypeDict['genres']\n",
    "    for platform in platforms:\n",
    "        if name == platform[\"name\"]:\n",
    "            for type in types:\n",
    "                if platform[\"genres\"] == type[\"id\"]:\n",
    "                    return type[\"name\"]\n",
    "\n",
    "def map_platforms_to_genre(platforms):\n",
    "    return [map_platform_to_genre(platform) for platform in platforms]\n",
    "\n",
    "games_platforms = games_clean.copy()\n",
    "games_platforms['Realease_Year'] = pd.to_datetime(games_platforms['Release_Date']).dt.year\n",
    "games_platforms = games_platforms[games_platforms['Realease_Year'] <= 2023]\n",
    "games_platforms_explode = games_platforms.explode('Platforms')\n",
    "games_platforms_explode['Platform_Type'] = games_platforms_explode['Platforms'].apply(lambda x: map_platform_to_genre(x))\n",
    "games_platforms_groupBy = games_platforms_explode.groupby(['Realease_Year', 'Platform_Type', 'Platforms'])\n",
    "\n"
   ]
  },
  {
   "cell_type": "code",
   "execution_count": 10,
   "metadata": {},
   "outputs": [],
   "source": [
    "import math\n",
    "\n",
    "def aggregate_Game_ElemPlatforms(group):\t\t\t\t\t\t\t\t\t\n",
    "    return [{'Title' : elem['Title'],\n",
    "             'Release_Date' : elem['Release_Date'].strftime(\"%Y-%m-%d\"),\n",
    "\t\t\t 'Developers' : elem['Developers'],\n",
    "\t\t\t 'Summary' : \"\" if pd.isna(elem['Summary']) else elem['Summary'],\n",
    "\t\t\t 'Platforms' : elem['Platforms'],\n",
    "\t\t\t 'Genres' : elem['Genres'],\n",
    "\t\t\t 'Rating' : -1.0 if math.isnan(elem['Rating']) else elem['Rating'],\n",
    "\t\t\t 'Plays' : elem['Plays'],\n",
    "\t\t\t 'Playing' : elem['Playing'],\n",
    "\t\t\t 'Backlogs' : elem['Backlogs'],\n",
    "\t\t\t 'Wishlist' : elem['Wishlist'],\n",
    "\t\t\t 'Reviews' : elem['Reviews'],\n",
    "             'Platform_Type' : elem['Platform_Type']\n",
    "\t\t\t } for _, elem in group.iterrows()]\n",
    "\n",
    "games_platforms_groupBy = games_platforms_groupBy.apply(aggregate_Game_ElemPlatforms)\n"
   ]
  },
  {
   "cell_type": "code",
   "execution_count": 13,
   "metadata": {},
   "outputs": [],
   "source": [
    "from collections import defaultdict\n",
    "# transform the groupby object to a json\n",
    "platformsDict = defaultdict(lambda: defaultdict(lambda: defaultdict(list)))\n",
    "\n",
    "for (year, platform_type, platform), listElem in games_platforms_groupBy.items():\n",
    "    platformsDict[year][platform_type][platform] = listElem\n",
    "\n",
    "with open(\"games_by_year_and_platforms.json\", 'w') as f:\n",
    "    json.dump(platformsDict, f, indent=4)"
   ]
  },
  {
   "cell_type": "markdown",
   "metadata": {},
   "source": [
    "# Data Processing Developers"
   ]
  },
  {
   "cell_type": "code",
   "execution_count": 32,
   "metadata": {},
   "outputs": [
    {
     "name": "stderr",
     "output_type": "stream",
     "text": [
      "/var/folders/tq/cmycts3j1671ypmqmfdk63m00000gn/T/ipykernel_70715/1615058143.py:27: DeprecationWarning: DataFrameGroupBy.apply operated on the grouping columns. This behavior is deprecated, and in a future version of pandas the grouping columns will be excluded from the operation. Either pass `include_groups=False` to exclude the groupings or explicitly select the grouping columns after groupby to silence this warning.\n",
      "  devYear_groupBy = devYear_groupBy.apply(aggregate_Game_ElemDevelopers)\n"
     ]
    }
   ],
   "source": [
    "import math\n",
    "\n",
    "def aggregate_Game_ElemDevelopers(group):\t\t\t\t\t\t\t\t\t\n",
    "    return [{'Title' : elem['Title'],\n",
    "             'Release_Date' : elem['Release_Date'].strftime(\"%Y-%m-%d\"),\n",
    "\t\t\t 'Developers' : elem['Developers'],\n",
    "\t\t\t 'Summary' : \"\" if pd.isna(elem['Summary']) else elem['Summary'],\n",
    "\t\t\t 'Platforms' : elem['Platforms'],\n",
    "\t\t\t 'Genres' : elem['Genres'],\n",
    "\t\t\t 'Rating' : -1.0 if math.isnan(elem['Rating']) else elem['Rating'],\n",
    "\t\t\t 'Plays' : elem['Plays'],\n",
    "\t\t\t 'Playing' : elem['Playing'],\n",
    "\t\t\t 'Backlogs' : elem['Backlogs'],\n",
    "\t\t\t 'Wishlist' : elem['Wishlist'],\n",
    "\t\t\t 'Reviews' : elem['Reviews']\n",
    "\t\t\t } for _, elem in group.iterrows()]\n",
    "\n",
    "# extract the year\n",
    "games_withYear = games_clean\n",
    "games_withYear['Realease_Year'] = pd.to_datetime(games_clean['Release_Date']).dt.year\n",
    "#remove all the year geater than 2023\n",
    "games_withYear = games_withYear[games_withYear['Realease_Year'] <= 2023]\n",
    "# explode list of Developers\n",
    "developers_exploded = games_withYear.explode('Developers')\n",
    "# group by year and developers\n",
    "devYear_groupBy = developers_exploded.groupby(['Realease_Year', 'Developers'])\n",
    "devYear_groupBy = devYear_groupBy.apply(aggregate_Game_ElemDevelopers)"
   ]
  },
  {
   "cell_type": "code",
   "execution_count": 33,
   "metadata": {},
   "outputs": [],
   "source": [
    "from collections import defaultdict\n",
    "\n",
    "devDict = defaultdict(lambda: defaultdict(list))\n",
    "\n",
    "for (year, dev), listElem in devYear_groupBy.items():\n",
    "    devDict[year][dev] = listElem\n"
   ]
  },
  {
   "cell_type": "code",
   "execution_count": 34,
   "metadata": {},
   "outputs": [],
   "source": [
    "import json\n",
    "with open(\"games_by_year_and_developers.json\", 'w') as f:\n",
    "    json.dump(devDict, f, indent=4)"
   ]
  },
  {
   "cell_type": "code",
   "execution_count": null,
   "metadata": {},
   "outputs": [],
   "source": []
  }
 ],
 "metadata": {
  "kernelspec": {
   "display_name": "Python 3",
   "language": "python",
   "name": "python3"
  },
  "language_info": {
   "codemirror_mode": {
    "name": "ipython",
    "version": 3
   },
   "file_extension": ".py",
   "mimetype": "text/x-python",
   "name": "python",
   "nbconvert_exporter": "python",
   "pygments_lexer": "ipython3",
   "version": "3.8.5"
  }
 },
 "nbformat": 4,
 "nbformat_minor": 2
}
